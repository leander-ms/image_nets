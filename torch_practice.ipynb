{
 "cells": [
  {
   "cell_type": "code",
   "execution_count": 59,
   "id": "33fc94eb",
   "metadata": {},
   "outputs": [],
   "source": [
    "import numpy as np\n",
    "import matplotlib.pyplot as plt\n",
    "import seaborn as sns\n",
    "import pandas as pd\n",
    "import torch\n",
    "from torch import nn, optim\n",
    "from sklearn.model_selection import train_test_split\n",
    "import tqdm\n",
    "import copy"
   ]
  },
  {
   "cell_type": "code",
   "execution_count": 97,
   "id": "ffa87578",
   "metadata": {},
   "outputs": [],
   "source": [
    "x = np.random.randn(10**5, 250)"
   ]
  },
  {
   "cell_type": "code",
   "execution_count": 98,
   "id": "2f69e234",
   "metadata": {},
   "outputs": [
    {
     "data": {
      "text/plain": [
       "(100000, 250)"
      ]
     },
     "execution_count": 98,
     "metadata": {},
     "output_type": "execute_result"
    }
   ],
   "source": [
    "x.shape"
   ]
  },
  {
   "cell_type": "code",
   "execution_count": 99,
   "id": "505e194c",
   "metadata": {},
   "outputs": [],
   "source": [
    "class NeuralNet(nn.Module):\n",
    "    def __init__(self, input_shape: int):\n",
    "        super().__init__()\n",
    "        self.relu = nn.ReLU()\n",
    "        self.hidden1 = nn.Linear(input_shape, 8)\n",
    "        self.hidden2 = nn.Linear(8, 256)\n",
    "        self.output = nn.Linear(256, 1)\n",
    "        \n",
    "    def forward(self, x):\n",
    "        x = self.relu(self.hidden1(x))\n",
    "        x = self.relu(self.hidden2(x))\n",
    "        x = self.relu(self.output(x))\n",
    "        return x"
   ]
  },
  {
   "cell_type": "code",
   "execution_count": 100,
   "id": "24c460bc",
   "metadata": {},
   "outputs": [],
   "source": [
    "X = x[:, 0:250]\n",
    "y = x[:, -1].reshape(-1, 1)"
   ]
  },
  {
   "cell_type": "code",
   "execution_count": 101,
   "id": "93e3feec",
   "metadata": {},
   "outputs": [],
   "source": [
    "X_train, X_test, y_train, y_test = train_test_split(X, y)"
   ]
  },
  {
   "cell_type": "code",
   "execution_count": 102,
   "id": "62665c06",
   "metadata": {},
   "outputs": [
    {
     "name": "stdout",
     "output_type": "stream",
     "text": [
      "Model will run on cuda\n"
     ]
    }
   ],
   "source": [
    "device = torch.device('cuda' if torch.cuda.is_available() else 'cpu')\n",
    "print(f\"Model will run on {device}\")\n",
    "\n",
    "X_train = torch.tensor(X_train, dtype=torch.float).to(device)\n",
    "X_test = torch.tensor(X_test, dtype=torch.float).to(device)\n",
    "y_train = torch.tensor(y_train, dtype=torch.float).to(device)\n",
    "y_test = torch.tensor(y_test, dtype=torch.float).to(device)"
   ]
  },
  {
   "cell_type": "code",
   "execution_count": 103,
   "id": "607b372b",
   "metadata": {},
   "outputs": [],
   "source": [
    "model = NeuralNet(input_shape=X_train.shape[1]).to(device)\n",
    "loss_fn = nn.MSELoss()\n",
    "optimizer = optim.Adam(model.parameters(), lr=0.0001)"
   ]
  },
  {
   "cell_type": "code",
   "execution_count": 104,
   "id": "46fd9aa5",
   "metadata": {},
   "outputs": [],
   "source": [
    "n_epochs = 100\n",
    "batch_size = 100\n",
    "batch_start = torch.arange(0, len(X_train), batch_size)\n",
    "\n",
    "best_mse = np.inf\n",
    "best_weights = None\n",
    "history = []"
   ]
  },
  {
   "cell_type": "code",
   "execution_count": 105,
   "id": "45fcff34",
   "metadata": {},
   "outputs": [
    {
     "name": "stderr",
     "output_type": "stream",
     "text": [
      "Epoch 0: 100%|████████████████████████████████████████████████████████████████| 750/750 [00:03<00:00, 228.56batch/s, mse=1.19]\n",
      "Epoch 1: 100%|████████████████████████████████████████████████████████████████| 750/750 [00:02<00:00, 264.13batch/s, mse=1.19]\n",
      "Epoch 2: 100%|████████████████████████████████████████████████████████████████| 750/750 [00:02<00:00, 255.12batch/s, mse=1.19]\n",
      "Epoch 3: 100%|████████████████████████████████████████████████████████████████| 750/750 [00:02<00:00, 257.87batch/s, mse=1.19]\n",
      "Epoch 4: 100%|████████████████████████████████████████████████████████████████| 750/750 [00:03<00:00, 242.18batch/s, mse=1.19]\n",
      "Epoch 5: 100%|████████████████████████████████████████████████████████████████| 750/750 [00:03<00:00, 242.45batch/s, mse=1.19]\n",
      "Epoch 6: 100%|████████████████████████████████████████████████████████████████| 750/750 [00:03<00:00, 245.67batch/s, mse=1.19]\n",
      "Epoch 7: 100%|████████████████████████████████████████████████████████████████| 750/750 [00:03<00:00, 239.62batch/s, mse=1.19]\n",
      "Epoch 8:  25%|███████████████▊                                                | 185/750 [00:00<00:02, 218.54batch/s, mse=1.03]"
     ]
    }
   ],
   "source": [
    "for epoch in range(n_epochs):\n",
    "    model.train()\n",
    "    with tqdm.tqdm(batch_start, unit='batch', mininterval=0, disable=False) as bar:\n",
    "        bar.set_description(f'Epoch {epoch}')\n",
    "        for start in bar:\n",
    "            X_batch = X_train[start:start+batch_size]\n",
    "            y_batch = y_train[start:start+batch_size]\n",
    "            \n",
    "            y_pred = model(X_batch)\n",
    "            loss = loss_fn(y_pred, y_batch)\n",
    "            \n",
    "            optimizer.zero_grad()\n",
    "            loss.backward()\n",
    "            \n",
    "            optimizer.step()\n",
    "            \n",
    "            bar.set_postfix(mse=float(loss))\n",
    "            \n",
    "    model.eval()\n",
    "    y_pred = model(X_test)\n",
    "    mse = float(loss_fn(y_pred, y_test))\n",
    "    history.append(mse)\n",
    "    if mse < best_mse:\n",
    "        best_mse = mse\n",
    "        best_weights = copy.deepcopy(model.state_dict())\n",
    "        \n",
    "model.load_state_dict(best_weights)"
   ]
  },
  {
   "cell_type": "code",
   "execution_count": 95,
   "id": "676c7e32",
   "metadata": {},
   "outputs": [
    {
     "data": {
      "text/plain": [
       "[<matplotlib.lines.Line2D at 0x2ab8e751590>]"
      ]
     },
     "execution_count": 95,
     "metadata": {},
     "output_type": "execute_result"
    },
    {
     "data": {
      "image/png": "[encoded data removed]",
      "text/plain": [
       "<Figure size 640x480 with 1 Axes>"
      ]
     },
     "metadata": {},
     "output_type": "display_data"
    }
   ],
   "source": [
    "plt.plot(history)"
   ]
  }
 ],
 "metadata": {
  "kernelspec": {
   "display_name": "Python 3 (ipykernel)",
   "language": "python",
   "name": "python3"
  },
  "language_info": {
   "codemirror_mode": {
    "name": "ipython",
    "version": 3
   },
   "file_extension": ".py",
   "mimetype": "text/x-python",
   "name": "python",
   "nbconvert_exporter": "python",
   "pygments_lexer": "ipython3",
   "version": "3.11.2"
  }
 },
 "nbformat": 4,
 "nbformat_minor": 5
}
